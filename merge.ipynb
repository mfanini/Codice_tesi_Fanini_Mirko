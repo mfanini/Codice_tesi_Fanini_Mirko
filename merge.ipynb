{
 "cells": [
  {
   "cell_type": "code",
   "execution_count": 1,
   "id": "e6fdb8ea",
   "metadata": {},
   "outputs": [],
   "source": [
    "import json"
   ]
  },
  {
   "cell_type": "code",
   "execution_count": 4,
   "id": "29b9ac6a",
   "metadata": {},
   "outputs": [
    {
     "name": "stdout",
     "output_type": "stream",
     "text": [
      "Merging completato. I risultati sono stati salvati in 'merged_data.json'.\n"
     ]
    }
   ],
   "source": [
    "with open('C:\\\\Users\\\\mirko\\\\PycharmProjects\\\\Merging\\\\author_profiles.json', 'r') as file:\n",
    "    clustering_authors = json.load(file)\n",
    "\n",
    "with open('C:\\\\Users\\\\mirko\\\\PycharmProjects\\\\Merging\\\\project_profiles.json', 'r') as file:\n",
    "    clustering_projects = json.load(file)\n",
    "\n",
    "merged_data = []\n",
    "for author_id, author_data in clustering_authors.items():\n",
    "    for developer in author_data['developers']:\n",
    "        parts = developer.rsplit('_', 2)\n",
    "        author_name = parts[0]\n",
    "        project_name = '_'.join(parts[1:])\n",
    "        project_details = {}\n",
    "        for project_key, project_data in clustering_projects.items():\n",
    "            if project_name in project_data.get('projects', []):\n",
    "                project_details = project_data.get('details', {})\n",
    "                break\n",
    "        merged_data.append({\n",
    "            'author_name': author_name,\n",
    "            'project_name': project_name,\n",
    "            'author_details': author_data['details'],\n",
    "            'project_details': project_details\n",
    "        })\n",
    "\n",
    "with open('C:\\\\Users\\\\mirko\\\\PycharmProjects\\\\Merging\\\\merged_data.json', 'w') as file:\n",
    "    json.dump(merged_data, file, indent=2)"
   ]
  }
 ],
 "metadata": {
  "kernelspec": {
   "display_name": "Python 3 (ipykernel)",
   "language": "python",
   "name": "python3"
  },
  "language_info": {
   "codemirror_mode": {
    "name": "ipython",
    "version": 3
   },
   "file_extension": ".py",
   "mimetype": "text/x-python",
   "name": "python",
   "nbconvert_exporter": "python",
   "pygments_lexer": "ipython3",
   "version": "3.11.4"
  }
 },
 "nbformat": 4,
 "nbformat_minor": 5
}

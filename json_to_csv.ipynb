{
 "cells": [
  {
   "cell_type": "code",
   "execution_count": 8,
   "id": "2f56b35c",
   "metadata": {},
   "outputs": [],
   "source": [
    "import json\n",
    "import csv"
   ]
  },
  {
   "cell_type": "code",
   "execution_count": 11,
   "id": "6eb83eff",
   "metadata": {},
   "outputs": [],
   "source": [
    "with open('C:\\\\Users\\\\mirko\\\\PycharmProjects\\\\Merging\\\\merged_data.json', 'r') as json_file:\n",
    "    data = json.load(json_file)\n",
    "\n",
    "with open('C:\\\\Users\\\\mirko\\\\PycharmProjects\\\\Merging\\\\merged_data.csv', 'w', newline='') as csv_file:\n",
    "    csv_writer = csv.writer(csv_file)\n",
    "    header = [\"author_name\", \"project_name\", \"author_timezone\", \"author_code_churn\", \"author_refactoring_density\",\n",
    "              \"author_commits\", \"author_time\", \"project_files\", \"project_contributors\", \"project_timezones\",\n",
    "              \"project_commits\", \"project_age\", \"project_stars\", \"project_refactoring_density\"]\n",
    "    csv_writer.writerow(header)\n",
    "    for entry in data:\n",
    "        author_name = entry[\"author_name\"]\n",
    "        project_name = entry[\"project_name\"]\n",
    "        author_details = entry[\"author_details\"]\n",
    "        project_details = entry[\"project_details\"]\n",
    "        author_timezone = author_details.get(\"timezone\", \"\")\n",
    "        author_code_churn = author_details.get(\"code_churn\", \"\")\n",
    "        author_refactoring_density = author_details.get(\"refactoring_density\", \"\")\n",
    "        author_commits = author_details.get(\"commits\", \"\")\n",
    "        author_time = author_details.get(\"time\", \"\")\n",
    "        project_files = project_details.get(\"files\", \"\")\n",
    "        project_contributors = project_details.get(\"contributors\", \"\")\n",
    "        project_timezones = project_details.get(\"timezones\", \"\")\n",
    "        project_commits = project_details.get(\"commits\", \"\")\n",
    "        project_age = project_details.get(\"age\", \"\")\n",
    "        project_stars = project_details.get(\"stars\", \"\")\n",
    "        project_refactoring_density = project_details.get(\"refactoring_density\", \"\")\n",
    "        csv_writer.writerow([author_name, project_name, author_timezone, author_code_churn, author_refactoring_density,\n",
    "                             author_commits, author_time, project_files, project_contributors, project_timezones,\n",
    "                             project_commits, project_age, project_stars, project_refactoring_density])\n",
    "        \n",
    "        "
   ]
  },
  {
   "cell_type": "code",
   "execution_count": null,
   "id": "3b98f082",
   "metadata": {},
   "outputs": [],
   "source": []
  }
 ],
 "metadata": {
  "kernelspec": {
   "display_name": "Python 3 (ipykernel)",
   "language": "python",
   "name": "python3"
  },
  "language_info": {
   "codemirror_mode": {
    "name": "ipython",
    "version": 3
   },
   "file_extension": ".py",
   "mimetype": "text/x-python",
   "name": "python",
   "nbconvert_exporter": "python",
   "pygments_lexer": "ipython3",
   "version": "3.11.4"
  }
 },
 "nbformat": 4,
 "nbformat_minor": 5
}
